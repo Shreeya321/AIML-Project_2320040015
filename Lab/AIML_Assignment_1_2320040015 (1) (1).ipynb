{
  "nbformat": 4,
  "nbformat_minor": 0,
  "metadata": {
    "colab": {
      "provenance": []
    },
    "kernelspec": {
      "name": "python3",
      "display_name": "Python 3"
    },
    "language_info": {
      "name": "python"
    }
  },
  "cells": [
    {
      "cell_type": "markdown",
      "source": [
        "Uninformed Search Technique: BFS, DFS, IDDFS"
      ],
      "metadata": {
        "id": "IBUw5YqrVeWC"
      }
    },
    {
      "cell_type": "code",
      "source": [
        "from collections import deque\n",
        "\n",
        "def BFS(graph, start_node, goal_node):\n",
        "    queue = deque([(start_node, [start_node])])\n",
        "    visited = set()\n",
        "\n",
        "    while queue:\n",
        "        node, path = queue.popleft()\n",
        "        if node == goal_node:\n",
        "            return path\n",
        "        visited.add(node)\n",
        "        for neighbor in graph.get(node, []):\n",
        "            if neighbor not in visited:\n",
        "                queue.append((neighbor, path + [neighbor]))\n",
        "                visited.add(neighbor)\n",
        "    return None\n",
        "\n",
        "def Path(graph, start_node, goal_node):\n",
        "    path = BFS(graph, start_node, goal_node)\n",
        "    if path:\n",
        "        return path\n",
        "    else:\n",
        "        return \"No path found\"\n",
        "\n",
        "g = {\n",
        "    'A': ['B', 'C', 'D'],\n",
        "    'B': ['E', 'F', 'G'],\n",
        "    'C': ['H'],\n",
        "    'D': ['I', 'J', 'K'],\n",
        "    'E': ['L'],\n",
        "    'F': ['M'],\n",
        "    'G': ['N'],\n",
        "    'H': ['O', 'P'],\n",
        "    'I': ['Q', 'R'],\n",
        "    'J': ['S'],\n",
        "    'K': ['T'],\n",
        "    'L': [],\n",
        "    'M': [],\n",
        "    'N': [],\n",
        "    'O': [],\n",
        "    'P': [],\n",
        "    'Q': [],\n",
        "    'R': [],\n",
        "    'S': [],\n",
        "    'T': []\n",
        "\n",
        "}\n",
        "\n",
        "# Perform BFS from node 'A' to find the path to 'P'\n",
        "path = Path(g, 'A', 'P')\n",
        "if isinstance(path, list):\n",
        "    print(f\"BFS Path: {' -> '.join(path)}\")\n",
        "else:\n",
        "    print(path)"
      ],
      "metadata": {
        "colab": {
          "base_uri": "https://localhost:8080/"
        },
        "id": "wEVkkp1I2__Z",
        "outputId": "fafeb75f-94c9-4c3a-871d-88bbcc439711"
      },
      "execution_count": 90,
      "outputs": [
        {
          "output_type": "stream",
          "name": "stdout",
          "text": [
            "BFS Path: A -> C -> H -> P\n"
          ]
        }
      ]
    },
    {
      "cell_type": "code",
      "source": [
        "def DFS(graph, start_node, goal_node, path=None):\n",
        "    if path is None:\n",
        "        path = [start_node]\n",
        "    else:\n",
        "        path = path + [start_node]\n",
        "\n",
        "    if start_node == goal_node:\n",
        "        return path\n",
        "\n",
        "    for neighbor in graph.get(start_node, []):\n",
        "        if neighbor not in path:\n",
        "            new_path = DFS(graph, neighbor, goal_node, path)\n",
        "            if new_path:\n",
        "                return new_path\n",
        "    return None\n",
        "\n",
        "g = {\n",
        "    'A': ['B', 'C', 'D'],\n",
        "    'B': ['E', 'F', 'G'],\n",
        "    'C': ['H'],\n",
        "    'D': ['I', 'J', 'K'],\n",
        "    'E': ['L'],\n",
        "    'F': ['M'],\n",
        "    'G': ['N'],\n",
        "    'H': ['O', 'P'],\n",
        "    'I': ['Q', 'R'],\n",
        "    'J': ['S'],\n",
        "    'K': ['T'],\n",
        "    'L': [],\n",
        "    'M': [],\n",
        "    'N': [],\n",
        "    'O': [],\n",
        "    'P': [],\n",
        "    'Q': [],\n",
        "    'R': [],\n",
        "    'S': [],\n",
        "    'T': []\n",
        "}\n",
        "\n",
        "# Find DFS path from 'A' to 'P'\n",
        "path = DFS(g, 'A', 'P')\n",
        "if path:\n",
        "    print(f\"DFS Path: {' -> '.join(path)}\")\n",
        "else:\n",
        "    print(\"No path found from 'A' to 'P'\")"
      ],
      "metadata": {
        "colab": {
          "base_uri": "https://localhost:8080/"
        },
        "id": "Zps_htKR4xVw",
        "outputId": "a27a48a4-4972-4026-b8e4-b988e8920743"
      },
      "execution_count": 91,
      "outputs": [
        {
          "output_type": "stream",
          "name": "stdout",
          "text": [
            "DFS Path: A -> C -> H -> P\n"
          ]
        }
      ]
    },
    {
      "cell_type": "code",
      "source": [
        "def DLS(graph, start_node, goal_node, depth):\n",
        "    stack = [(start_node, [start_node], 0)]\n",
        "    while stack:\n",
        "        node, path, current_depth = stack.pop()\n",
        "        if node == goal_node:\n",
        "            return path\n",
        "        if current_depth < depth:\n",
        "            for neighbor in graph.get(node, []):\n",
        "                if neighbor not in path:\n",
        "                    stack.append((neighbor, path + [neighbor], current_depth + 1))\n",
        "    return None\n",
        "\n",
        "def IDDFS(graph, start_node, goal_node, max_depth):\n",
        "    for depth in range(max_depth + 1):\n",
        "        print(f\"Depth {depth}:\")\n",
        "        path = DLS(graph, start_node, goal_node, depth)\n",
        "        if path:\n",
        "            print(f\"  Path to goal '{goal_node}' found: {' -> ' .join(path)}\")\n",
        "        else:\n",
        "            print(f\"  No path found to goal '{goal_node}' at this depth\")\n",
        "\n",
        "g = {\n",
        "    'A': ['B', 'C', 'D'],\n",
        "    'B': ['E', 'F', 'G'],\n",
        "    'C': ['H'],\n",
        "    'D': ['I', 'J', 'K'],\n",
        "    'E': ['L'],\n",
        "    'F': ['M'],\n",
        "    'G': ['N'],\n",
        "    'H': ['O', 'P'],\n",
        "    'I': ['Q', 'R'],\n",
        "    'J': ['S'],\n",
        "    'K': ['T'],\n",
        "    'L': [],\n",
        "    'M': [],\n",
        "    'N': [],\n",
        "    'O': [],\n",
        "    'P': [],\n",
        "    'Q': [],\n",
        "    'R': [],\n",
        "    'S': [],\n",
        "    'T': []\n",
        "}\n",
        "\n",
        "# Start IDDFS from node 'A' with a maximum depth limit of 3\n",
        "IDDFS(g, 'A', 'P', 3)"
      ],
      "metadata": {
        "colab": {
          "base_uri": "https://localhost:8080/"
        },
        "id": "9Y33L_kbI01D",
        "outputId": "13526d55-2430-43bf-8666-ce231dca9bb3"
      },
      "execution_count": 92,
      "outputs": [
        {
          "output_type": "stream",
          "name": "stdout",
          "text": [
            "Depth 0:\n",
            "  No path found to goal 'P' at this depth\n",
            "Depth 1:\n",
            "  No path found to goal 'P' at this depth\n",
            "Depth 2:\n",
            "  No path found to goal 'P' at this depth\n",
            "Depth 3:\n",
            "  Path to goal 'P' found: A -> C -> H -> P\n"
          ]
        }
      ]
    },
    {
      "cell_type": "markdown",
      "source": [
        "Informed Search Technique: A*, BFS"
      ],
      "metadata": {
        "id": "EuBBGatBVzRE"
      }
    },
    {
      "cell_type": "code",
      "source": [
        "def AStar(graph, start_node, goal_node, heuristic_values):\n",
        "    open_list = [(start_node, [start_node], 0)]\n",
        "    closed_list = []\n",
        "\n",
        "    while open_list:\n",
        "        open_list.sort(key=lambda x: x[2] + heuristic_values[x[0]])\n",
        "        current_node, path, g_cost = open_list.pop(0)\n",
        "\n",
        "        if current_node == goal_node:\n",
        "            return path\n",
        "\n",
        "        closed_list.append(current_node)\n",
        "\n",
        "        for adjacent_node, cost in graph[current_node]:\n",
        "            if adjacent_node in closed_list:\n",
        "                continue\n",
        "\n",
        "            new_g_cost = g_cost + cost\n",
        "            open_list.append((adjacent_node, path + [adjacent_node], new_g_cost))\n",
        "\n",
        "    return None\n",
        "\n",
        "graph = {\n",
        "    'A': [('B', 8), ('C', 6), ('D', 12)],\n",
        "    'B': [('E', 4), ('F', 2), ('G', 21)],\n",
        "    'C': [('H', 1)],\n",
        "    'D': [('I', 6), ('J', 9), ('K', 3)],\n",
        "    'E': [('L', 1)],\n",
        "    'F': [('M', 2)],\n",
        "    'G': [('N', 3)],\n",
        "    'H': [('O', 5), ('P', 2)],\n",
        "    'I': [('Q', 6), ('R', 14)],\n",
        "    'J': [('S', 9)],\n",
        "    'K': [('T', 18)],\n",
        "    'L': [],\n",
        "    'M': [],\n",
        "    'N': [],\n",
        "    'O': [],\n",
        "    'P': [],\n",
        "    'Q': [],\n",
        "    'R': [],\n",
        "    'S': [],\n",
        "    'T': []\n",
        "}\n",
        "\n",
        "heuristic_values = {\n",
        "    'A': 15, 'B': 9, 'C': 10, 'D': 11, 'E': 6, 'F': 11, 'G': 7, 'H': 1, 'I': 2, 'J': 4, 'K': 8, 'L': 10, 'M': 8, 'N': 4, 'O': 6, 'P': 3, 'Q': 4, 'R': 16, 'S': 15, 'T': 2\n",
        "}\n",
        "\n",
        "path_AStar = AStar(graph, 'A', 'P', heuristic_values)\n",
        "print(f\"A* Path: {' -> '.join(path)}\")"
      ],
      "metadata": {
        "colab": {
          "base_uri": "https://localhost:8080/"
        },
        "id": "J1djvzwmIrZz",
        "outputId": "bd714af5-9b18-42b9-cc14-e8fa788ed384"
      },
      "execution_count": null,
      "outputs": [
        {
          "output_type": "stream",
          "name": "stdout",
          "text": [
            "A* Path: A -> C -> H -> P\n"
          ]
        }
      ]
    },
    {
      "cell_type": "code",
      "source": [
        "def BestFS(graph, start_node, goal_node, heuristic_values):\n",
        "    open_list = [(start_node, [start_node])]\n",
        "    closed_list = []\n",
        "\n",
        "    while open_list:\n",
        "        open_list.sort(key=lambda x: heuristic_values[x[0]])\n",
        "        current_node, path = open_list.pop(0)\n",
        "\n",
        "        if current_node == goal_node:\n",
        "            return path\n",
        "\n",
        "        closed_list.append(current_node)\n",
        "\n",
        "        for adjacent_node in graph[current_node]:\n",
        "            if adjacent_node not in closed_list and adjacent_node not in [node for node, _ in open_list]:\n",
        "                open_list.append((adjacent_node, path + [adjacent_node]))\n",
        "\n",
        "    return None\n",
        "\n",
        "graph = {\n",
        "    'A': ['B', 'C', 'D'],\n",
        "    'B': ['E', 'F', 'G'],\n",
        "    'C': ['H'],\n",
        "    'D': ['I', 'J', 'K'],\n",
        "    'E': ['L'],\n",
        "    'F': ['M'],\n",
        "    'G': ['N'],\n",
        "    'H': ['O', 'P'],\n",
        "    'I': ['Q', 'R'],\n",
        "    'J': ['S'],\n",
        "    'K': ['T'],\n",
        "    'L': [],\n",
        "    'M': [],\n",
        "    'N': [],\n",
        "    'O': [],\n",
        "    'P': [],\n",
        "    'Q': [],\n",
        "    'R': [],\n",
        "    'S': [],\n",
        "    'T': []\n",
        "}\n",
        "\n",
        "\n",
        "heuristic_values = {\n",
        "    'A': 50, 'B': 48, 'C': 28, 'D': 32, 'E': 22, 'F': 15, 'G': 40, 'H': 16, 'I': 20, 'J': 9, 'K': 21, 'L': 61, 'M': 35, 'N': 26, 'O': 11, 'P': 0, 'Q': 6, 'R': 31, 'S': 29, 'T': 4\n",
        "}\n",
        "\n",
        "# Perform Best-First Search\n",
        "path_BestFS = BestFS(graph, 'A', 'P', heuristic_values)\n",
        "print(f\"Best-First Search Path: {' -> '.join(path)}\")"
      ],
      "metadata": {
        "colab": {
          "base_uri": "https://localhost:8080/"
        },
        "id": "mO1ZGtrxO4fp",
        "outputId": "0e575349-2620-43ea-9129-245005a8c00f"
      },
      "execution_count": null,
      "outputs": [
        {
          "output_type": "stream",
          "name": "stdout",
          "text": [
            "Best-First Search Path: A -> C -> H -> P\n"
          ]
        }
      ]
    },
    {
      "cell_type": "markdown",
      "source": [
        "Adversal Search Technique: Min-Max, Apha-Beta (utility values)"
      ],
      "metadata": {
        "id": "3eoVIhr-V457"
      }
    },
    {
      "cell_type": "code",
      "source": [
        "def Min_Max(graph, node, is_max):\n",
        "    if node not in graph or not graph[node]:\n",
        "        return evaluate(node)[0], [node]\n",
        "\n",
        "    if is_max:\n",
        "        best_value = float('-inf')\n",
        "        best_path = []\n",
        "        for child in graph[node]:\n",
        "            value, path = Min_Max(graph, child, False)\n",
        "            if value > best_value:\n",
        "                best_value = value\n",
        "                best_path = path\n",
        "        return best_value, [node] + best_path\n",
        "    else:\n",
        "        best_value = float('inf')\n",
        "        best_path = []\n",
        "        for child in graph[node]:\n",
        "            value, path = Min_Max(graph, child, True)\n",
        "            if value < best_value:\n",
        "                best_value = value\n",
        "                best_path = path\n",
        "        return best_value, [node] + best_path\n",
        "\n",
        "def evaluate(node):\n",
        "    utility_values = {\n",
        "        'L': (-1, 2), 'M': (3, 9), 'N': (-2, 8), 'O': (-3, -4), 'P': (2, 3), 'Q': (6, 5), 'R': (3, -1), 'S': (2, 1), 'T': (4, 3)\n",
        "    }\n",
        "    return utility_values.get(node, (0, 0))\n",
        "\n",
        "graph = {\n",
        "    'A': ['B', 'C', 'D'],\n",
        "    'B': ['E', 'F', 'G'],\n",
        "    'C': ['H'],\n",
        "    'D': ['I', 'J', 'K'],\n",
        "    'E': ['L'],\n",
        "    'F': ['M'],\n",
        "    'G': ['N'],\n",
        "    'H': ['O', 'P'],\n",
        "    'I': ['Q', 'R'],\n",
        "    'J': ['S'],\n",
        "    'K': ['T'],\n",
        "    'L': [],\n",
        "    'M': [],\n",
        "    'N': [],\n",
        "    'O': [],\n",
        "    'P': [],\n",
        "    'Q': [],\n",
        "    'R': [],\n",
        "    'S': [],\n",
        "    'T': []\n",
        "}\n",
        "\n",
        "# Perform Min-Max search starting from node 'A'\n",
        "result_value, result_path = Min_Max(graph, 'A', True)\n",
        "print(f\"Min-Max Result: Utility = {result_value}, Path = {' -> '.join(result_path)}\")"
      ],
      "metadata": {
        "colab": {
          "base_uri": "https://localhost:8080/"
        },
        "id": "aOEnmu4HRCdy",
        "outputId": "e299b89e-7645-4033-c3a8-f1eadbf15888"
      },
      "execution_count": null,
      "outputs": [
        {
          "output_type": "stream",
          "name": "stdout",
          "text": [
            "Min-Max Result: Utility = 2, Path = A -> C -> H -> P\n"
          ]
        }
      ]
    },
    {
      "cell_type": "code",
      "source": [
        "def Alpha_Beta(graph, node, depth, alpha, beta, is_max):\n",
        "    if node not in graph or not graph[node]:\n",
        "        return evaluate(node)[0], [node]\n",
        "\n",
        "    if is_max:\n",
        "        best_value = float('-inf')\n",
        "        best_path = []\n",
        "        for child in graph[node]:\n",
        "            value, path = Alpha_Beta(graph, child, depth + 1, alpha, beta, False)\n",
        "            if value > best_value:\n",
        "                best_value = value\n",
        "                best_path = path\n",
        "            alpha = max(alpha, best_value)\n",
        "            if beta <= alpha:\n",
        "                break\n",
        "        return best_value, [node] + best_path\n",
        "    else:\n",
        "        best_value = float('inf')\n",
        "        best_path = []\n",
        "        for child in graph[node]:\n",
        "            value, path = Alpha_Beta(graph, child, depth + 1, alpha, beta, True)\n",
        "            if value < best_value:\n",
        "                best_value = value\n",
        "                best_path = path\n",
        "            beta = min(beta, best_value)\n",
        "            if beta <= alpha:\n",
        "                break\n",
        "        return best_value, [node] + best_path\n",
        "\n",
        "def evaluate(node):\n",
        "    utility_values = {\n",
        "        'L': (5, 2), 'M': (4, 9), 'N': (6, 3), 'O': (1, 4), 'P': (6, 5), 'Q': (5, 8), 'R': (4, 1), 'S': (3, 8), 'T': (4, 6)\n",
        "    }\n",
        "    return utility_values.get(node, (0, 0))\n",
        "\n",
        "graph = {\n",
        "    'A': ['B', 'C', 'D'],\n",
        "    'B': ['E', 'F', 'G'],\n",
        "    'C': ['H'],\n",
        "    'D': ['I', 'J', 'K'],\n",
        "    'E': ['L'],\n",
        "    'F': ['M'],\n",
        "    'G': ['N'],\n",
        "    'H': ['O', 'P'],\n",
        "    'I': ['Q', 'R'],\n",
        "    'J': ['S'],\n",
        "    'K': ['T'],\n",
        "    'L': [],\n",
        "    'M': [],\n",
        "    'N': [],\n",
        "    'O': [],\n",
        "    'P': [],\n",
        "    'Q': [],\n",
        "    'R': [],\n",
        "    'S': [],\n",
        "    'T': []\n",
        "}\n",
        "\n",
        "# Perform Alpha-Beta search starting from node 'A'\n",
        "result_value, result_path = Alpha_Beta(graph, 'A', 0, float('-inf'), float('inf'), True)\n",
        "print(f\"Alpha-Beta Result: Utility = {result_value}, Path = {' -> '.join(result_path)}\")"
      ],
      "metadata": {
        "colab": {
          "base_uri": "https://localhost:8080/"
        },
        "id": "9TmVE6QQGeWm",
        "outputId": "b8c119b7-7081-4f4a-9507-ebda3809ba00"
      },
      "execution_count": null,
      "outputs": [
        {
          "output_type": "stream",
          "name": "stdout",
          "text": [
            "Alpha-Beta Result: Utility = 6, Path = A -> C -> H -> P\n"
          ]
        }
      ]
    }
  ]
}