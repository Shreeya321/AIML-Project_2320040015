{
  "nbformat": 4,
  "nbformat_minor": 0,
  "metadata": {
    "colab": {
      "provenance": []
    },
    "kernelspec": {
      "name": "python3",
      "display_name": "Python 3"
    },
    "language_info": {
      "name": "python"
    }
  },
  "cells": [
    {
      "cell_type": "code",
      "source": [
        "import networkx as nx\n",
        "import matplotlib.pyplot as plt\n",
        "\n",
        "num_nodes = int(input(\"Enter the number of nodes: \"))\n",
        "nodes = []\n",
        "for i in range(num_nodes):\n",
        "    node = input(f\"Enter node {i+1}: \")\n",
        "    nodes.append(node)\n",
        "\n",
        "num_edges = int(input(\"Enter the number of edges: \"))\n",
        "edges = []\n",
        "for i in range(num_edges):\n",
        "    edge = input(f\"Enter edge {i+1} (format: node1 node2): \").split()\n",
        "    edges.append(tuple(edge))\n",
        "\n",
        "num_colors = int(input(\"Enter the number of colors: \"))\n",
        "colors = []\n",
        "for i in range(num_colors):\n",
        "    color = input(f\"Enter color {i+1}: \")\n",
        "    colors.append(color)\n",
        "\n",
        "G = nx.Graph()\n",
        "G.add_nodes_from(nodes)\n",
        "G.add_edges_from(edges)\n",
        "\n",
        "def is_safe(node, color, colored_nodes):\n",
        "    for neighbor in G.neighbors(node):\n",
        "        if neighbor in colored_nodes and colored_nodes[neighbor] == color:\n",
        "            return False\n",
        "    return True\n",
        "\n",
        "def color_map():\n",
        "    colored_nodes = {}\n",
        "    for node in G.nodes():\n",
        "        for color in colors:\n",
        "            if is_safe(node, color, colored_nodes):\n",
        "                colored_nodes[node] = color\n",
        "                break\n",
        "        else:\n",
        "            return None\n",
        "    return colored_nodes\n",
        "\n",
        "colored_nodes = color_map()\n",
        "\n",
        "if colored_nodes is None:\n",
        "    print(\"Insufficient colors to color the graph.\")\n",
        "else:\n",
        "    pos = nx.spring_layout(G)\n",
        "    nx.draw_networkx_nodes(G, pos, node_color=[colored_nodes[node] for node in G.nodes()])\n",
        "    nx.draw_networkx_edges(G, pos, edge_color='black')\n",
        "    nx.draw_networkx_labels(G, pos, font_size=10)\n",
        "    plt.show()"
      ],
      "metadata": {
        "colab": {
          "base_uri": "https://localhost:8080/",
          "height": 781
        },
        "id": "FXoNa7GsFGpo",
        "outputId": "675fdbca-73f7-4cee-dc89-67b4b19db7c0"
      },
      "execution_count": null,
      "outputs": [
        {
          "name": "stdout",
          "output_type": "stream",
          "text": [
            "Enter the number of nodes: 7\n",
            "Enter node 1: wa\n",
            "Enter node 2: nt\n",
            "Enter node 3: sa\n",
            "Enter node 4: q\n",
            "Enter node 5: nsw\n",
            "Enter node 6: v\n",
            "Enter node 7: t\n",
            "Enter the number of edges: 8\n",
            "Enter edge 1 (format: node1 node2): wa nt\n",
            "Enter edge 2 (format: node1 node2): nt q\n",
            "Enter edge 3 (format: node1 node2): wa sa\n",
            "Enter edge 4 (format: node1 node2): nt sa\n",
            "Enter edge 5 (format: node1 node2): sa v\n",
            "Enter edge 6 (format: node1 node2): sa nsw\n",
            "Enter edge 7 (format: node1 node2): v nsw\n",
            "Enter edge 8 (format: node1 node2): q nsw\n",
            "Enter the number of colors: 3\n",
            "Enter color 1: red\n",
            "Enter color 2: green\n",
            "Enter color 3: blue\n"
          ]
        },
        {
          "output_type": "display_data",
          "data": {
            "text/plain": [
              "<Figure size 640x480 with 1 Axes>"
            ],
            "image/png": "[encoded data removed]"
          },
          "metadata": {}
        }
      ]
    }
  ]
}